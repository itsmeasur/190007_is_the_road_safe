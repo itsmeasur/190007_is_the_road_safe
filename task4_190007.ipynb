{
  "cells": [
    {
      "cell_type": "markdown",
      "metadata": {
        "id": "view-in-github",
        "colab_type": "text"
      },
      "source": [
        "<a href=\"https://colab.research.google.com/github/itsmeasur/190007_is_the_road_safe/blob/main/task4_190007.ipynb\" target=\"_parent\"><img src=\"https://colab.research.google.com/assets/colab-badge.svg\" alt=\"Open In Colab\"/></a>"
      ]
    },
    {
      "cell_type": "code",
      "execution_count": 156,
      "metadata": {
        "id": "hWC7E4fdrO6s"
      },
      "outputs": [],
      "source": [
        "import tensorflow as tf\n",
        "import keras\n",
        "from keras.models import Sequential"
      ]
    },
    {
      "cell_type": "code",
      "execution_count": 157,
      "metadata": {
        "id": "rNU5MEXl_Zvl"
      },
      "outputs": [],
      "source": [
        "model = Sequential()\n",
        "model_res = tf.keras.applications.ResNet50(include_top = False, weights = \"imagenet\", input_tensor = None, input_shape = (32,32,3), pooling='avg', classes = 8)\n",
        "for layer in model_res.layers:\n",
        "    layer.trainable = False\n",
        "model.add(model_res)"
      ]
    },
    {
      "cell_type": "code",
      "execution_count": 158,
      "metadata": {
        "id": "Cq6D5Qy3Af7L",
        "colab": {
          "base_uri": "https://localhost:8080/"
        },
        "outputId": "d488f034-ed21-43e9-e8d9-c603dd8fc989"
      },
      "outputs": [
        {
          "output_type": "stream",
          "name": "stdout",
          "text": [
            "Model: \"sequential_10\"\n",
            "_________________________________________________________________\n",
            " Layer (type)                Output Shape              Param #   \n",
            "=================================================================\n",
            " resnet50 (Functional)       (None, 2048)              23587712  \n",
            "                                                                 \n",
            " flatten_10 (Flatten)        (None, 2048)              0         \n",
            "                                                                 \n",
            " dense_20 (Dense)            (None, 512)               1049088   \n",
            "                                                                 \n",
            " dense_21 (Dense)            (None, 10)                5130      \n",
            "                                                                 \n",
            "=================================================================\n",
            "Total params: 24,641,930\n",
            "Trainable params: 1,054,218\n",
            "Non-trainable params: 23,587,712\n",
            "_________________________________________________________________\n"
          ]
        }
      ],
      "source": [
        "from keras.layers import Flatten, Dense\n",
        "model.add(Flatten())\n",
        "model.add(Dense(512,activation = 'relu'))\n",
        "model.add(Dense(10,activation = 'softmax'))\n",
        "model.summary()"
      ]
    },
    {
      "cell_type": "code",
      "execution_count": 159,
      "metadata": {
        "id": "oV5zoQsSBPrS"
      },
      "outputs": [],
      "source": [
        "mnist_data = keras.datasets.fashion_mnist\n",
        "(x_train,y_train),(x_test,y_test) = mnist_data.load_data()"
      ]
    },
    {
      "cell_type": "code",
      "source": [
        "x_train.shape"
      ],
      "metadata": {
        "id": "q4xWELgcbKSC",
        "outputId": "cff7b22b-cb4a-429d-d5ea-4d908aa08e58",
        "colab": {
          "base_uri": "https://localhost:8080/"
        }
      },
      "execution_count": 160,
      "outputs": [
        {
          "output_type": "execute_result",
          "data": {
            "text/plain": [
              "(60000, 28, 28)"
            ]
          },
          "metadata": {},
          "execution_count": 160
        }
      ]
    },
    {
      "cell_type": "code",
      "source": [
        "x_train[1].shape"
      ],
      "metadata": {
        "id": "dVl9Ssl0cuhh",
        "outputId": "e4900ced-a330-4955-a79f-8347be947a1b",
        "colab": {
          "base_uri": "https://localhost:8080/"
        }
      },
      "execution_count": 161,
      "outputs": [
        {
          "output_type": "execute_result",
          "data": {
            "text/plain": [
              "(28, 28)"
            ]
          },
          "metadata": {},
          "execution_count": 161
        }
      ]
    },
    {
      "cell_type": "code",
      "execution_count": 162,
      "metadata": {
        "id": "hJtDRUC3DH0Y"
      },
      "outputs": [],
      "source": [
        "import cv2\n",
        "import numpy as np\n",
        "\n",
        "x_train_new = np.zeros((60000, 32, 32, 3),)\n",
        "for i,j in enumerate(x_train):\n",
        "        img = cv2.resize(j, (32,32), interpolation = cv2.INTER_AREA)\n",
        "        img = cv2.cvtColor(img,cv2.COLOR_GRAY2RGB)\n",
        "\n",
        "        x_train_new[i] = img"
      ]
    },
    {
      "cell_type": "code",
      "execution_count": 163,
      "metadata": {
        "id": "RVc7eh0OQEh8"
      },
      "outputs": [],
      "source": [
        "from tensorflow import keras\n",
        "model.compile(optimizer = keras.optimizers.Adam(learning_rate = 1e-3), loss = 'categorical_crossentropy', metrics = ['accuracy'])"
      ]
    },
    {
      "cell_type": "code",
      "execution_count": 164,
      "metadata": {
        "scrolled": true,
        "id": "TfXCcZ0dQEh9"
      },
      "outputs": [],
      "source": [
        "y_train = tf.keras.utils.to_categorical(y_train, 10)\n",
        "y_test = tf.keras.utils.to_categorical(y_test, 10)"
      ]
    },
    {
      "cell_type": "code",
      "execution_count": 165,
      "metadata": {
        "colab": {
          "base_uri": "https://localhost:8080/"
        },
        "id": "3vrjKWN5DNnJ",
        "outputId": "ac77535f-d8c1-42da-d6ed-1c0dc3ee7efa",
        "scrolled": true
      },
      "outputs": [
        {
          "output_type": "stream",
          "name": "stdout",
          "text": [
            "1875/1875 [==============================] - 28s 14ms/step - loss: 0.5369 - accuracy: 0.8157\n"
          ]
        },
        {
          "output_type": "execute_result",
          "data": {
            "text/plain": [
              "<keras.callbacks.History at 0x7ef80cdfdb90>"
            ]
          },
          "metadata": {},
          "execution_count": 165
        }
      ],
      "source": [
        "model.fit(x_train_new,y_train)"
      ]
    },
    {
      "cell_type": "code",
      "execution_count": 166,
      "metadata": {
        "id": "19ZaBhJeQEh_"
      },
      "outputs": [],
      "source": [
        "x_test_new = np.zeros((10000, 32, 32, 3), )\n",
        "for i,j in enumerate(x_test):\n",
        "        img = cv2.resize(j, (32,32), interpolation = cv2.INTER_AREA)\n",
        "        img = cv2.cvtColor(img,cv2.COLOR_GRAY2RGB)\n",
        "\n",
        "        x_test_new[i] = img"
      ]
    },
    {
      "cell_type": "code",
      "execution_count": 167,
      "metadata": {
        "colab": {
          "base_uri": "https://localhost:8080/"
        },
        "id": "IY-dkobIQEh_",
        "outputId": "067a48d1-72f4-40c8-e238-5833fe01daa8"
      },
      "outputs": [
        {
          "output_type": "stream",
          "name": "stdout",
          "text": [
            "313/313 [==============================] - 5s 15ms/step - loss: 0.4460 - accuracy: 0.8360\n"
          ]
        },
        {
          "output_type": "execute_result",
          "data": {
            "text/plain": [
              "[0.44600528478622437, 0.8360000252723694]"
            ]
          },
          "metadata": {},
          "execution_count": 167
        }
      ],
      "source": [
        "results = model.evaluate(x_test_new, y_test)\n",
        "results"
      ]
    }
  ],
  "metadata": {
    "accelerator": "GPU",
    "colab": {
      "name": "task4_190007.ipynb",
      "provenance": [],
      "include_colab_link": true
    },
    "gpuClass": "standard",
    "kernelspec": {
      "display_name": "Python 3 (ipykernel)",
      "language": "python",
      "name": "python3"
    },
    "language_info": {
      "codemirror_mode": {
        "name": "ipython",
        "version": 3
      },
      "file_extension": ".py",
      "mimetype": "text/x-python",
      "name": "python",
      "nbconvert_exporter": "python",
      "pygments_lexer": "ipython3",
      "version": "3.9.12"
    }
  },
  "nbformat": 4,
  "nbformat_minor": 0
}